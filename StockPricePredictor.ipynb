{
 "cells": [
  {
   "cell_type": "code",
   "execution_count": 23,
   "metadata": {},
   "outputs": [
    {
     "name": "stderr",
     "output_type": "stream",
     "text": [
      "C:\\Users\\Dell\\AppData\\Local\\Temp\\ipykernel_8076\\1162544080.py:3: FutureWarning: In a future version of pandas all arguments of concat except for the argument 'objs' will be keyword-only.\n",
      "  df=pdr.get_data_tiingo('AAPL',api_key='2e28eec33283e8896877b567992c9a3f6ebfb85f')\n"
     ]
    }
   ],
   "source": [
    "import pandas_datareader as pdr\n",
    "\n",
    "df=pdr.get_data_tiingo('AAPL',api_key='2e28eec33283e8896877b567992c9a3f6ebfb85f')"
   ]
  },
  {
   "cell_type": "code",
   "execution_count": 24,
   "metadata": {},
   "outputs": [],
   "source": [
    "df.to_csv('AAPL.csv')"
   ]
  },
  {
   "cell_type": "code",
   "execution_count": 25,
   "metadata": {},
   "outputs": [],
   "source": [
    "import pandas as pd\n",
    "\n",
    "df=pd.read_csv('AAPL.csv')"
   ]
  },
  {
   "cell_type": "code",
   "execution_count": 26,
   "metadata": {},
   "outputs": [
    {
     "data": {
      "text/html": [
       "<div>\n",
       "<style scoped>\n",
       "    .dataframe tbody tr th:only-of-type {\n",
       "        vertical-align: middle;\n",
       "    }\n",
       "\n",
       "    .dataframe tbody tr th {\n",
       "        vertical-align: top;\n",
       "    }\n",
       "\n",
       "    .dataframe thead th {\n",
       "        text-align: right;\n",
       "    }\n",
       "</style>\n",
       "<table border=\"1\" class=\"dataframe\">\n",
       "  <thead>\n",
       "    <tr style=\"text-align: right;\">\n",
       "      <th></th>\n",
       "      <th>symbol</th>\n",
       "      <th>date</th>\n",
       "      <th>close</th>\n",
       "      <th>high</th>\n",
       "      <th>low</th>\n",
       "      <th>open</th>\n",
       "      <th>volume</th>\n",
       "      <th>adjClose</th>\n",
       "      <th>adjHigh</th>\n",
       "      <th>adjLow</th>\n",
       "      <th>adjOpen</th>\n",
       "      <th>adjVolume</th>\n",
       "      <th>divCash</th>\n",
       "      <th>splitFactor</th>\n",
       "    </tr>\n",
       "  </thead>\n",
       "  <tbody>\n",
       "    <tr>\n",
       "      <th>0</th>\n",
       "      <td>AAPL</td>\n",
       "      <td>2018-01-03 00:00:00+00:00</td>\n",
       "      <td>172.23</td>\n",
       "      <td>174.55</td>\n",
       "      <td>171.96</td>\n",
       "      <td>172.53</td>\n",
       "      <td>28819653</td>\n",
       "      <td>40.889783</td>\n",
       "      <td>41.440583</td>\n",
       "      <td>40.825681</td>\n",
       "      <td>40.961007</td>\n",
       "      <td>115278612</td>\n",
       "      <td>0.0</td>\n",
       "      <td>1.0</td>\n",
       "    </tr>\n",
       "    <tr>\n",
       "      <th>1</th>\n",
       "      <td>AAPL</td>\n",
       "      <td>2018-01-04 00:00:00+00:00</td>\n",
       "      <td>173.03</td>\n",
       "      <td>173.47</td>\n",
       "      <td>172.08</td>\n",
       "      <td>172.54</td>\n",
       "      <td>22211345</td>\n",
       "      <td>41.079714</td>\n",
       "      <td>41.184176</td>\n",
       "      <td>40.854171</td>\n",
       "      <td>40.963381</td>\n",
       "      <td>88845380</td>\n",
       "      <td>0.0</td>\n",
       "      <td>1.0</td>\n",
       "    </tr>\n",
       "    <tr>\n",
       "      <th>2</th>\n",
       "      <td>AAPL</td>\n",
       "      <td>2018-01-05 00:00:00+00:00</td>\n",
       "      <td>175.00</td>\n",
       "      <td>175.37</td>\n",
       "      <td>173.05</td>\n",
       "      <td>173.44</td>\n",
       "      <td>23016177</td>\n",
       "      <td>41.547419</td>\n",
       "      <td>41.635262</td>\n",
       "      <td>41.084462</td>\n",
       "      <td>41.177054</td>\n",
       "      <td>92064708</td>\n",
       "      <td>0.0</td>\n",
       "      <td>1.0</td>\n",
       "    </tr>\n",
       "    <tr>\n",
       "      <th>3</th>\n",
       "      <td>AAPL</td>\n",
       "      <td>2018-01-08 00:00:00+00:00</td>\n",
       "      <td>174.35</td>\n",
       "      <td>175.61</td>\n",
       "      <td>173.93</td>\n",
       "      <td>174.35</td>\n",
       "      <td>20134092</td>\n",
       "      <td>41.393100</td>\n",
       "      <td>41.692242</td>\n",
       "      <td>41.293386</td>\n",
       "      <td>41.393100</td>\n",
       "      <td>80536368</td>\n",
       "      <td>0.0</td>\n",
       "      <td>1.0</td>\n",
       "    </tr>\n",
       "    <tr>\n",
       "      <th>4</th>\n",
       "      <td>AAPL</td>\n",
       "      <td>2018-01-09 00:00:00+00:00</td>\n",
       "      <td>174.33</td>\n",
       "      <td>175.06</td>\n",
       "      <td>173.41</td>\n",
       "      <td>174.55</td>\n",
       "      <td>21262614</td>\n",
       "      <td>41.388352</td>\n",
       "      <td>41.561664</td>\n",
       "      <td>41.169931</td>\n",
       "      <td>41.440583</td>\n",
       "      <td>85050456</td>\n",
       "      <td>0.0</td>\n",
       "      <td>1.0</td>\n",
       "    </tr>\n",
       "  </tbody>\n",
       "</table>\n",
       "</div>"
      ],
      "text/plain": [
       "  symbol                       date   close    high     low    open    volume  \\\n",
       "0   AAPL  2018-01-03 00:00:00+00:00  172.23  174.55  171.96  172.53  28819653   \n",
       "1   AAPL  2018-01-04 00:00:00+00:00  173.03  173.47  172.08  172.54  22211345   \n",
       "2   AAPL  2018-01-05 00:00:00+00:00  175.00  175.37  173.05  173.44  23016177   \n",
       "3   AAPL  2018-01-08 00:00:00+00:00  174.35  175.61  173.93  174.35  20134092   \n",
       "4   AAPL  2018-01-09 00:00:00+00:00  174.33  175.06  173.41  174.55  21262614   \n",
       "\n",
       "    adjClose    adjHigh     adjLow    adjOpen  adjVolume  divCash  splitFactor  \n",
       "0  40.889783  41.440583  40.825681  40.961007  115278612      0.0          1.0  \n",
       "1  41.079714  41.184176  40.854171  40.963381   88845380      0.0          1.0  \n",
       "2  41.547419  41.635262  41.084462  41.177054   92064708      0.0          1.0  \n",
       "3  41.393100  41.692242  41.293386  41.393100   80536368      0.0          1.0  \n",
       "4  41.388352  41.561664  41.169931  41.440583   85050456      0.0          1.0  "
      ]
     },
     "execution_count": 26,
     "metadata": {},
     "output_type": "execute_result"
    }
   ],
   "source": [
    "df.head()"
   ]
  },
  {
   "cell_type": "code",
   "execution_count": 27,
   "metadata": {},
   "outputs": [],
   "source": [
    "df1=df.reset_index()['close']"
   ]
  },
  {
   "cell_type": "code",
   "execution_count": 28,
   "metadata": {},
   "outputs": [
    {
     "data": {
      "text/plain": [
       "(1258,)"
      ]
     },
     "execution_count": 28,
     "metadata": {},
     "output_type": "execute_result"
    }
   ],
   "source": [
    "df1.shape"
   ]
  },
  {
   "cell_type": "code",
   "execution_count": 29,
   "metadata": {},
   "outputs": [
    {
     "data": {
      "text/plain": [
       "[<matplotlib.lines.Line2D at 0x183dda25990>]"
      ]
     },
     "execution_count": 29,
     "metadata": {},
     "output_type": "execute_result"
    },
    {
     "data": {
      "image/png": "[encoded data removed]",
      "text/plain": [
       "<Figure size 640x480 with 1 Axes>"
      ]
     },
     "metadata": {},
     "output_type": "display_data"
    }
   ],
   "source": [
    "import matplotlib.pyplot as plt\n",
    "plt.plot(df1)"
   ]
  },
  {
   "cell_type": "code",
   "execution_count": 30,
   "metadata": {},
   "outputs": [],
   "source": [
    "from sklearn.preprocessing import MinMaxScaler\n",
    "import numpy as np\n",
    "\n",
    "sc=MinMaxScaler(feature_range=(0,1))\n",
    "df1=sc.fit_transform(np.array(df1).reshape(-1,1))"
   ]
  },
  {
   "cell_type": "code",
   "execution_count": 31,
   "metadata": {},
   "outputs": [],
   "source": [
    "train_size=int(len(df1)*0.80)\n",
    "test_size=len(df1)-train_size\n",
    "train_set,test_set=df.iloc[0:train_size,:],df.iloc[train_size:len(df1),:1]"
   ]
  },
  {
   "cell_type": "code",
   "execution_count": 38,
   "metadata": {},
   "outputs": [],
   "source": [
    "# convert array into dataset matrix\n",
    "\n",
    "def create_Dataset(dataset,time_step=1):\n",
    "    dataX,dataY =[],[]\n",
    "    for i in range(len(dataset)-time_step-1):\n",
    "        a=dataset.iloc[i:(i+time_step),0]\n",
    "        dataX.append(a)\n",
    "        dataY.append(dataset.iloc[(i+time_step),0])\n",
    "    return np.array(dataX),np.array(dataY)    "
   ]
  },
  {
   "cell_type": "code",
   "execution_count": 39,
   "metadata": {},
   "outputs": [],
   "source": [
    "time_step =100\n",
    "x_train,y_train=create_Dataset(train_set,time_step)\n",
    "x_test,y_test=create_Dataset(test_set,time_step)\n"
   ]
  },
  {
   "cell_type": "code",
   "execution_count": 40,
   "metadata": {},
   "outputs": [],
   "source": [
    "# reshape input to be [samples, time steps, features] which is required for LSTM\n",
    "x_train =x_train.reshape(x_train.shape[0],x_train.shape[1] , 1)\n",
    "x_test = x_test.reshape(x_test.shape[0],x_test.shape[1] , 1)"
   ]
  },
  {
   "cell_type": "code",
   "execution_count": null,
   "metadata": {},
   "outputs": [],
   "source": [
    "from keras.layers import LSTM,Dense\n",
    "from keras.models import Sequential"
   ]
  }
 ],
 "metadata": {
  "kernelspec": {
   "display_name": "env",
   "language": "python",
   "name": "python3"
  },
  "language_info": {
   "codemirror_mode": {
    "name": "ipython",
    "version": 3
   },
   "file_extension": ".py",
   "mimetype": "text/x-python",
   "name": "python",
   "nbconvert_exporter": "python",
   "pygments_lexer": "ipython3",
   "version": "3.10.1"
  },
  "orig_nbformat": 4,
  "vscode": {
   "interpreter": {
    "hash": "c0e751043c8b594c6a41463ba6e9f8d46195dbc8fae58b618f00986efdd26217"
   }
  }
 },
 "nbformat": 4,
 "nbformat_minor": 2
}
